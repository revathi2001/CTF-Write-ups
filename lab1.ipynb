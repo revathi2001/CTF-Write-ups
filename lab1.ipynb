{
  "nbformat": 4,
  "nbformat_minor": 0,
  "metadata": {
    "colab": {
      "name": "lab1.ipynb",
      "provenance": [],
      "collapsed_sections": [],
      "include_colab_link": true
    },
    "kernelspec": {
      "name": "python3",
      "display_name": "Python 3"
    },
    "language_info": {
      "name": "python"
    }
  },
  "cells": [
    {
      "cell_type": "markdown",
      "metadata": {
        "id": "view-in-github",
        "colab_type": "text"
      },
      "source": [
        "<a href=\"https://colab.research.google.com/github/revathi2001/CTF-Write-ups/blob/master/lab1.ipynb\" target=\"_parent\"><img src=\"https://colab.research.google.com/assets/colab-badge.svg\" alt=\"Open In Colab\"/></a>"
      ]
    },
    {
      "cell_type": "markdown",
      "metadata": {
        "id": "9XMqAAtzftoD"
      },
      "source": [
        "#Lab1:    Introduction to Google Colab"
      ]
    },
    {
      "cell_type": "markdown",
      "metadata": {
        "id": "zsSOUdIFmgWI"
      },
      "source": [
        "##Introduction\n",
        "- In Colab notebooks we can have executable python code and text in a single document.\n",
        "- We can include images, HTML, Latex.\n",
        "- We can also import image datasets, our own data from google drive account."
      ]
    },
    {
      "cell_type": "markdown",
      "metadata": {
        "id": "vcpLBjKJpMG8"
      },
      "source": [
        "##How to access Google Colab\n",
        "- We can access Colab notebooks with the help of our google account.\n",
        "- Colab notebooks created are stored in our google drive account."
      ]
    },
    {
      "cell_type": "markdown",
      "metadata": {
        "id": "Yi6nsWi3myNz"
      },
      "source": [
        "##Create a new notebook\n",
        "To create a new Colab notebook on the top left corner we have **File** menu, using **New notebook** option there we can create a new Colab notebook.\n",
        "##Rename the Colab notebook\n",
        "On th top left corner of page we have filename.ipynb, there we can enter new name and click enter. Here I changed the file name as lab1.ipynb.\n",
        "\n",
        "![Imgur](https://i.imgur.com/Sevb2Py.png)"
      ]
    },
    {
      "cell_type": "markdown",
      "metadata": {
        "id": "236080Me0bK1"
      },
      "source": [
        "##Cells in Colab notebook\n",
        "  ![Imgur](https://i.imgur.com/byMWbsn.png)\n",
        "\n",
        "\n",
        "In Colab notebook we have 2 types of cells\n",
        "- Code cell:     \n",
        "  - Code cell can be added by using **+Code** on top of page or by using code in **insert menu** in toolbar.\n",
        "  - We can run the code by clicking the **Play icon** on leftside of the cell.\n",
        "   \n",
        "   Example: \n",
        "   \n",
        "   ![Imgur](https://i.imgur.com/xfoGabj.png)\n",
        "  - **Ctrl+Enter** is used for running the cell.\n",
        "  - **Alt+Enter** is used to run the cell and create new code cell.\n",
        "- Text cell:\n",
        "  - Text cell can be added by using **+Text**.\n",
        "  - After adding text cell we can use **Double-click** to edit the cell.\n",
        "  - We can also add mathematical equations in text cells.\n",
        "   - Example: \n",
        "   \n",
        "  ```$\\sqrt{x^2+1}$``` gives $\\sqrt{x^2+1}$,  \n",
        "  ```$\\alpha^2+\\beta^2$``` gives $\\alpha^2+\\beta^2$ etc\n",
        "  - **Commenting a cell**\n",
        "   - In the top right corner of the cell we will have comment button, using that we can comment.\n",
        "   - Other way of commenting is by using **Ctrl+Alt+M**.\n",
        "\n",
        "  ![Imgur](https://i.imgur.com/Zh58XWE.png)\n",
        "- The first 2 icons are used to move cells **Up** or **Down**.\n",
        "- Next one is used to get link for a cell.\n",
        "- We can comment cell using next icon.\n",
        "- Last but one icon is used delete cell."
      ]
    },
    {
      "cell_type": "markdown",
      "metadata": {
        "id": "CNN4vj9ArfvE"
      },
      "source": [
        "##Some useful features in text cell\n",
        "- Toggle heading, bold, italic:\n",
        "\n",
        "   ![Imgur](https://i.imgur.com/EEMqejd.png)\n",
        "- Formats text to code, add links and images:\n",
        "\n",
        "   ![Imgur](https://i.imgur.com/I16ZkIS.png)\n",
        "- Add numbered list, add bulleted list, add horizontal rule.\n",
        "\n",
        "   ![Imgur](https://i.imgur.com/A8OmlZy.png)\n",
        "\n",
        "\n",
        "- **Other way of bolding the words**:   ```**Required text to bold**```.\n",
        "- *Other way to convert words to Italic*:          ```*Required text to convert to italic*```\n",
        "- **Add hyperlinks**:   \n",
        "    Example: ```[Youtube](https://www.youtube.com/)``` gives in this way: [Youtube](https://www.youtube.com/)\n",
        "- \"#\" used for main heading.\n",
        "- \"##\" used for sub section headings."
      ]
    },
    {
      "cell_type": "markdown",
      "metadata": {
        "id": "p-qshr7y0c4u"
      },
      "source": [
        "##Few other points about Colab notebook\n",
        "- We can find the table of contents on left side of the page.\n",
        "![Imgur](https://i.imgur.com/yjOWCWX.png)\n",
        "\n",
        "- Here we have following sections:\n",
        " - **Find and replace**:  It is used to find words or phrases in our notebook and replace them with required words or phrases.\n",
        " \n",
        "      ![Imgur](https://i.imgur.com/zweJ37T.png)\n",
        " - **Code snippets**:    It is used to find appropriate codes required for python notebook from the library.\n",
        "\n",
        "      ![Imgur](https://i.imgur.com/Tq3jDUA.png)\n",
        " - **Files**:   Here we can upload the files which can be used in our code.\n",
        "\n",
        "      ![Imgur](https://i.imgur.com/pJO1072.png)\n",
        "- We can share the Colab notebook and control permissions so that one can edit the Notebook or only comment.\n",
        "- We can create a new section by selecting Section option below table of contents."
      ]
    }
  ]
}